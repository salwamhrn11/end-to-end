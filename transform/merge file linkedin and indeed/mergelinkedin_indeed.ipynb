{
 "cells": [
  {
   "cell_type": "code",
   "execution_count": 1,
   "metadata": {},
   "outputs": [],
   "source": [
    "import pandas as pd"
   ]
  },
  {
   "cell_type": "code",
   "execution_count": 4,
   "metadata": {},
   "outputs": [],
   "source": [
    "file_names = [\n",
    "    \"AI Engineer.csv\",\n",
    "    \"Android developer.csv\",\n",
    "    \"Back end developer.csv\",\n",
    "    \"Cyber security.csv\",\n",
    "    \"Data Analyst.csv\",\n",
    "    \"Data Engineer.csv\",\n",
    "    \"Flutter.csv\",\n",
    "    \"Front end developer.csv\",\n",
    "    \"Ios developer.csv\",\n",
    "    \"Machine Learning.csv\",\n",
    "    \"Mobile app developer.csv\",\n",
    "    \"Network engineer.csv\",\n",
    "    \"Software engineer.csv\",\n",
    "    \"UI_UX.csv\",\n",
    "    \"Web Developer.csv\"\n",
    "]"
   ]
  },
  {
   "cell_type": "code",
   "execution_count": 5,
   "metadata": {},
   "outputs": [],
   "source": [
    "dfs = {}\n",
    "for file_name in file_names:\n",
    "    name = file_name.split('.')[0]\n",
    "    dfs[name] = pd.read_csv(file_name)"
   ]
  },
  {
   "cell_type": "code",
   "execution_count": 6,
   "metadata": {},
   "outputs": [],
   "source": [
    "merged_df = pd.concat(dfs.values(), ignore_index=True)"
   ]
  },
  {
   "cell_type": "code",
   "execution_count": 8,
   "metadata": {},
   "outputs": [],
   "source": [
    "merged_df.to_csv('dataJob.csv', index=False)"
   ]
  }
 ],
 "metadata": {
  "kernelspec": {
   "display_name": "Python 3",
   "language": "python",
   "name": "python3"
  },
  "language_info": {
   "codemirror_mode": {
    "name": "ipython",
    "version": 3
   },
   "file_extension": ".py",
   "mimetype": "text/x-python",
   "name": "python",
   "nbconvert_exporter": "python",
   "pygments_lexer": "ipython3",
   "version": "3.12.0"
  }
 },
 "nbformat": 4,
 "nbformat_minor": 2
}
